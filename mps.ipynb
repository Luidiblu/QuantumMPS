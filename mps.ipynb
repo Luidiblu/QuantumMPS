{
 "cells": [
  {
   "cell_type": "markdown",
   "metadata": {},
   "source": [
    "### Método de simulação\n",
    "O `QasmSimulator` tem vários tipos de simulações... Incluindo `statevector`, `stabilizer`, `extended_Stabilizer` e `matrix_product_state`. Cada um desses determina a representação interna do circuito quântico e seus respectivos algoritmos."
   ]
  },
  {
   "cell_type": "markdown",
   "metadata": {},
   "source": [
    "### Método Matrix Product State\n",
    "Esse tipo de simulação é baseado no conceito de MSU. Essa estrutura, inicialmente, propõe uma eficiência clássica de cálculos quânticos (levemente bagunçados)"
   ]
  },
  {
   "cell_type": "code",
   "execution_count": 8,
   "metadata": {},
   "outputs": [
    {
     "name": "stderr",
     "output_type": "stream",
     "text": [
      "<ipython-input-8-06f4943d668c>:16: DeprecationWarning: Using `backend_options` kwarg has been deprecated as of qiskit-aer 0.7.0 and will be removed no earlier than 3 months from that release date. Runtime backend options should now be added directly using kwargs for each option.\n",
      "  result = execute(circ, simulator, backend_options=backend_opts_mps).result()\n"
     ]
    },
    {
     "data": {
      "text/plain": [
       "{'00': 499, '11': 525}"
      ]
     },
     "execution_count": 8,
     "metadata": {},
     "output_type": "execute_result"
    }
   ],
   "source": [
    "import numpy as np\n",
    "\n",
    "from qiskit import QuantumCircuit, QuantumRegister, ClassicalRegister\n",
    "from qiskit import Aer, execute\n",
    "from qiskit.providers.aer import QasmSimulator\n",
    "\n",
    "circ = QuantumCircuit(2, 2)\n",
    "circ.h(0)\n",
    "circ.cx(0, 1)\n",
    "circ.measure([0,1], [0,1])\n",
    "\n",
    "simulator = Aer.get_backend('qasm_simulator')\n",
    "\n",
    "backend_opts_mps = {\"method\": \"matrix_product_state\"}\n",
    "\n",
    "result = execute(circ, simulator, backend_options=backend_opts_mps).result()\n",
    "counts = result.get_counts(circ)\n",
    "counts\n"
   ]
  },
  {
   "cell_type": "code",
   "execution_count": 9,
   "metadata": {},
   "outputs": [],
   "source": [
    "from qiskit.extensions.simulator import Snapshot\n",
    "from qiskit.extensions.simulator.snapshot import snapshot"
   ]
  },
  {
   "cell_type": "code",
   "execution_count": 11,
   "metadata": {},
   "outputs": [
    {
     "name": "stderr",
     "output_type": "stream",
     "text": [
      "<ipython-input-11-ec729eaece22>:8: DeprecationWarning: Using `backend_options` kwarg has been deprecated as of qiskit-aer 0.7.0 and will be removed no earlier than 3 months from that release date. Runtime backend options should now be added directly using kwargs for each option.\n",
      "  job_sim = execute([circ], QasmSimulator(), backend_options=backend_opts_mps)\n"
     ]
    },
    {
     "data": {
      "text/plain": [
       "array([0.70710678+0.j, 0.        +0.j, 0.        +0.j, 0.70710678+0.j])"
      ]
     },
     "execution_count": 11,
     "metadata": {},
     "output_type": "execute_result"
    }
   ],
   "source": [
    "circ = QuantumCircuit(2, 2)\n",
    "circ.h(0)\n",
    "circ.cx(0, 1)\n",
    "\n",
    "circ.snapshot('my_sv', snapshot_type='statevector')\n",
    "circ.measure([0,1], [0,1])\n",
    "\n",
    "job_sim = execute([circ], QasmSimulator(), backend_options=backend_opts_mps)\n",
    "result = job_sim.result()\n",
    "\n",
    "result.data()['snapshots']['statevector']['my_sv'][0]"
   ]
  },
  {
   "cell_type": "code",
   "execution_count": 12,
   "metadata": {},
   "outputs": [
    {
     "data": {
      "text/plain": [
       "{'00': 524, '11': 500}"
      ]
     },
     "execution_count": 12,
     "metadata": {},
     "output_type": "execute_result"
    }
   ],
   "source": [
    "result.get_counts()"
   ]
  },
  {
   "cell_type": "code",
   "execution_count": 13,
   "metadata": {},
   "outputs": [
    {
     "name": "stdout",
     "output_type": "stream",
     "text": [
      "Time taken: 0.1982583999633789 sec\n"
     ]
    },
    {
     "name": "stderr",
     "output_type": "stream",
     "text": [
      "<ipython-input-13-1cb236ebabd0>:12: DeprecationWarning: Using `backend_options` kwarg has been deprecated as of qiskit-aer 0.7.0 and will be removed no earlier than 3 months from that release date. Runtime backend options should now be added directly using kwargs for each option.\n",
      "  job_sim = execute([circ], QasmSimulator(), backend_options=backend_opts_mps)\n"
     ]
    },
    {
     "data": {
      "text/plain": [
       "{'00000000000000000000000000000000000000000000000000': 498,\n",
       " '11111111111111111111111111111111111111111111111111': 526}"
      ]
     },
     "execution_count": 13,
     "metadata": {},
     "output_type": "execute_result"
    }
   ],
   "source": [
    "num_qubits = 50\n",
    "qr = QuantumRegister(num_qubits)\n",
    "cr = ClassicalRegister(num_qubits)\n",
    "circ = QuantumCircuit(qr, cr)\n",
    "\n",
    "circ.h(qr[0])\n",
    "for i in range (0,num_qubits-1):\n",
    "    circ.cx(qr[i], qr[i+1])\n",
    "\n",
    "circ.measure(qr, cr)\n",
    "\n",
    "job_sim = execute([circ], QasmSimulator(), backend_options=backend_opts_mps)\n",
    "result = job_sim.result()\n",
    "print(\"Time taken: {} sec\".format(result.time_taken))\n",
    "result.get_counts()"
   ]
  },
  {
   "cell_type": "code",
   "execution_count": 14,
   "metadata": {},
   "outputs": [
    {
     "data": {
      "text/html": [
       "<h3>Version Information</h3><table><tr><th>Qiskit Software</th><th>Version</th></tr><tr><td>Qiskit</td><td>0.23.0</td></tr><tr><td>Terra</td><td>0.16.0</td></tr><tr><td>Aer</td><td>0.7.0</td></tr><tr><td>Ignis</td><td>0.5.0</td></tr><tr><td>Aqua</td><td>0.8.0</td></tr><tr><td>IBM Q Provider</td><td>0.11.0</td></tr><tr><th>System information</th></tr><tr><td>Python</td><td>3.8.3 (default, Jul  2 2020, 16:21:59) \n",
       "[GCC 7.3.0]</td></tr><tr><td>OS</td><td>Linux</td></tr><tr><td>CPUs</td><td>4</td></tr><tr><td>Memory (Gb)</td><td>7.428749084472656</td></tr><tr><td colspan='2'>Mon Oct 26 09:49:10 2020 -03</td></tr></table>"
      ],
      "text/plain": [
       "<IPython.core.display.HTML object>"
      ]
     },
     "metadata": {},
     "output_type": "display_data"
    },
    {
     "data": {
      "text/html": [
       "<div style='width: 100%; background-color:#d5d9e0;padding-left: 10px; padding-bottom: 10px; padding-right: 10px; padding-top: 5px'><h3>This code is a part of Qiskit</h3><p>&copy; Copyright IBM 2017, 2020.</p><p>This code is licensed under the Apache License, Version 2.0. You may<br>obtain a copy of this license in the LICENSE.txt file in the root directory<br> of this source tree or at http://www.apache.org/licenses/LICENSE-2.0.<p>Any modifications or derivative works of this code must retain this<br>copyright notice, and modified files need to carry a notice indicating<br>that they have been altered from the originals.</p></div>"
      ],
      "text/plain": [
       "<IPython.core.display.HTML object>"
      ]
     },
     "metadata": {},
     "output_type": "display_data"
    }
   ],
   "source": [
    "import qiskit.tools.jupyter\n",
    "%qiskit_version_table\n",
    "%qiskit_copyright"
   ]
  }
 ],
 "metadata": {
  "kernelspec": {
   "display_name": "Python 3",
   "language": "python",
   "name": "python3"
  },
  "language_info": {
   "codemirror_mode": {
    "name": "ipython",
    "version": 3
   },
   "file_extension": ".py",
   "mimetype": "text/x-python",
   "name": "python",
   "nbconvert_exporter": "python",
   "pygments_lexer": "ipython3",
   "version": "3.8.3"
  }
 },
 "nbformat": 4,
 "nbformat_minor": 4
}
